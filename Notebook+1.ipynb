{
  "cells": [
    {
      "cell_type": "markdown",
      "source": [
        "**Step 3: Analyze NYC Taxi Data with a Spark Pool**"
      ],
      "metadata": {
        "nteract": {
          "transient": {
            "deleting": false
          }
        }
      }
    },
    {
      "cell_type": "code",
      "source": [
        "df = spark.read.load(path='abfss://synapsecontainer@gen2storageaccount258.dfs.core.windows.net/Data/NYCTripSmall.parquet', format='parquet')"
      ],
      "outputs": [
        {
          "output_type": "display_data",
          "data": {
            "application/vnd.livy.statement-meta+json": {
              "spark_pool": "Sparkpool1",
              "session_id": "0",
              "statement_id": 3,
              "state": "finished",
              "livy_statement_state": "available",
              "queued_time": "2023-10-22T14:22:43.0363266Z",
              "session_start_time": null,
              "execution_start_time": "2023-10-22T14:22:43.2355673Z",
              "execution_finish_time": "2023-10-22T14:23:00.2055413Z",
              "spark_jobs": null,
              "parent_msg_id": "430f8865-3596-485e-8895-5363fbaaac79"
            },
            "text/plain": "StatementMeta(Sparkpool1, 0, 3, Finished, Available)"
          },
          "metadata": {}
        }
      ],
      "execution_count": 3,
      "metadata": {}
    },
    {
      "cell_type": "code",
      "source": [
        "display(df.limit(10))"
      ],
      "outputs": [],
      "execution_count": null,
      "metadata": {
        "jupyter": {
          "source_hidden": false,
          "outputs_hidden": false
        },
        "nteract": {
          "transient": {
            "deleting": false
          }
        },
        "collapsed": false
      }
    },
    {
      "cell_type": "markdown",
      "source": [
        "**Step 4: Load the NYC Taxi data into the Spark nyctaxi database**"
      ],
      "metadata": {
        "nteract": {
          "transient": {
            "deleting": false
          }
        }
      }
    },
    {
      "cell_type": "code",
      "source": [
        "spark.sql(\"CREATE DATABASE IF NOT EXISTS nyctaxi\")\r\n",
        "df.write.mode(\"overwrite\").saveAsTable(\"nyctaxi.trip\")"
      ],
      "outputs": [
        {
          "output_type": "display_data",
          "data": {
            "application/vnd.livy.statement-meta+json": {
              "spark_pool": "Sparkpool1",
              "session_id": "0",
              "statement_id": 5,
              "state": "finished",
              "livy_statement_state": "available",
              "queued_time": "2023-10-22T14:29:08.3371663Z",
              "session_start_time": null,
              "execution_start_time": "2023-10-22T14:29:08.5101859Z",
              "execution_finish_time": "2023-10-22T14:29:27.5747309Z",
              "spark_jobs": null,
              "parent_msg_id": "2542dd1c-7275-420e-b2ab-05baa86c3d79"
            },
            "text/plain": "StatementMeta(Sparkpool1, 0, 5, Finished, Available)"
          },
          "metadata": {}
        }
      ],
      "execution_count": 5,
      "metadata": {
        "jupyter": {
          "source_hidden": false,
          "outputs_hidden": false
        },
        "nteract": {
          "transient": {
            "deleting": false
          }
        }
      }
    },
    {
      "cell_type": "code",
      "source": [
        "df = spark.sql(\"SELECT * FROM nyctaxi.trip\")\r\n",
        "display(df)"
      ],
      "outputs": [],
      "execution_count": null,
      "metadata": {
        "jupyter": {
          "source_hidden": false,
          "outputs_hidden": false
        },
        "nteract": {
          "transient": {
            "deleting": false
          }
        },
        "collapsed": false
      }
    },
    {
      "cell_type": "markdown",
      "source": [
        "**Step 5: Analyze the NYC Taxi data using Spark and notebooks**"
      ],
      "metadata": {
        "nteract": {
          "transient": {
            "deleting": false
          }
        }
      }
    },
    {
      "cell_type": "code",
      "source": [
        "spark.sql(\"DROP TABLE nyctaxi.passengercountstats\")"
      ],
      "outputs": [
        {
          "output_type": "display_data",
          "data": {
            "application/vnd.livy.statement-meta+json": {
              "spark_pool": "Sparkpool1",
              "session_id": "0",
              "statement_id": 8,
              "state": "finished",
              "livy_statement_state": "available",
              "queued_time": "2023-10-22T14:38:09.0446191Z",
              "session_start_time": null,
              "execution_start_time": "2023-10-22T14:38:09.2444913Z",
              "execution_finish_time": "2023-10-22T14:38:11.1457581Z",
              "spark_jobs": null,
              "parent_msg_id": "915c625d-1779-4dd1-97db-4ccc85b7f904"
            },
            "text/plain": "StatementMeta(Sparkpool1, 0, 8, Finished, Available)"
          },
          "metadata": {}
        },
        {
          "output_type": "execute_result",
          "execution_count": 17,
          "data": {
            "text/plain": "DataFrame[]"
          },
          "metadata": {}
        }
      ],
      "execution_count": 8,
      "metadata": {
        "jupyter": {
          "source_hidden": false,
          "outputs_hidden": false
        },
        "nteract": {
          "transient": {
            "deleting": false
          }
        }
      }
    },
    {
      "cell_type": "code",
      "source": [
        "df = spark.sql(\"\"\"\r\n",
        "   SELECT passenger_count,\r\n",
        "       SUM(trip_distance) as SumTripDistance,\r\n",
        "       AVG(trip_distance) as AvgTripDistance\r\n",
        "   FROM nyctaxi.trip\r\n",
        "   WHERE trip_distance > 0 AND passenger_count > 0\r\n",
        "   GROUP BY passenger_count\r\n",
        "   ORDER BY passenger_count\r\n",
        "\"\"\") \r\n",
        "\r\n",
        "display(df)\r\n",
        "\r\n",
        "df.write.saveAsTable(\"nyctaxi.passengercountstats\")"
      ],
      "outputs": [],
      "execution_count": null,
      "metadata": {
        "jupyter": {
          "source_hidden": false,
          "outputs_hidden": false
        },
        "nteract": {
          "transient": {
            "deleting": false
          }
        },
        "collapsed": false
      }
    },
    {
      "cell_type": "code",
      "source": [
        "df = spark.sql(\"SELECT * FROM nyctaxi.passengercountstats\")\r\n",
        "display(df)"
      ],
      "outputs": [],
      "execution_count": null,
      "metadata": {
        "jupyter": {
          "source_hidden": false,
          "outputs_hidden": false
        },
        "nteract": {
          "transient": {
            "deleting": false
          }
        },
        "collapsed": false
      }
    }
  ],
  "metadata": {
    "language_info": {
      "name": "python"
    },
    "kernelspec": {
      "name": "synapse_pyspark",
      "language": "Python",
      "display_name": "Synapse PySpark"
    },
    "kernel_info": {
      "name": "synapse_pyspark"
    },
    "save_output": true,
    "synapse_widget": {
      "version": "0.1",
      "state": {}
    }
  },
  "nbformat": 4,
  "nbformat_minor": 2
}